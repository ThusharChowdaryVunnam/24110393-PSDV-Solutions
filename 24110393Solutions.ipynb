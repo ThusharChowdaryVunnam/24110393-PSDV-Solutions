{
 "cells": [
  {
   "cell_type": "code",
   "execution_count": 1,
   "id": "730efbec-013f-4416-b14a-6f9a5f912b49",
   "metadata": {
    "collapsed": true,
    "jupyter": {
     "outputs_hidden": true
    }
   },
   "outputs": [
    {
     "name": "stdout",
     "output_type": "stream",
     "text": [
      "The first 20 natural numbers are : [1, 2, 3, 4, 5, 6, 7, 8, 9, 10, 11, 12, 13, 14, 15, 16, 17, 18, 19, 20]\n",
      "The sum of even numbers in the first 20 natural numbers is : 110\n",
      "The product of odd numbers in the first 20 natural numbers is : 654729075\n",
      "Mean : 10.5\n",
      "Median : 10.5\n",
      "Standard Deviation : 5.0\n"
     ]
    }
   ],
   "source": [
    "#1st question solution\n",
    "a = []\n",
    "for i in range(1,21) :\n",
    "    a.append(i)\n",
    "print(\"The first 20 natural numbers are :\", a)\n",
    "b=0\n",
    "for i in a :\n",
    "    if i %2 ==0 :\n",
    "        b+=i\n",
    "print(\"The sum of even numbers in the first 20 natural numbers is :\", b)\n",
    "c = 1 \n",
    "for i in a :\n",
    "    if i%2 ==1 :\n",
    "        c*= i\n",
    "print(\"The product of odd numbers in the first 20 natural numbers is :\", c)\n",
    "d = 0\n",
    "for i in a :\n",
    "    d+=i\n",
    "d = d/20 \n",
    "print(\"Mean :\", d)\n",
    "a.sort()\n",
    "e = (a[9] + a[10])/2\n",
    "print(\"Median :\" , e)\n",
    "f = 0\n",
    "for i in a:\n",
    "    f += abs(i-d)\n",
    "f = f/20\n",
    "print(\"Standard Deviation :\" , f)\n"
   ]
  },
  {
   "cell_type": "markdown",
   "id": "5dbea31d-c5b8-4fcc-8a3d-478c05ae4f88",
   "metadata": {},
   "source": [
    "Mutable data types are those whose values can be changed/modified after they have been created.\n",
    "For example, lists and dictionaries.\n",
    "Immutable data types are those whose values cannot be changed/modified after they have been created.\n",
    "For example, strings and tuples."
   ]
  },
  {
   "cell_type": "code",
   "execution_count": 7,
   "id": "06905443-ee2d-4c96-aee7-72cde6d564e0",
   "metadata": {
    "scrolled": true
   },
   "outputs": [
    {
     "name": "stdin",
     "output_type": "stream",
     "text": [
      " 25\n"
     ]
    },
    {
     "data": {
      "image/png": "[encoded data removed]",
      "text/plain": [
       "<Figure size 640x480 with 1 Axes>"
      ]
     },
     "metadata": {},
     "output_type": "display_data"
    }
   ],
   "source": [
    "import matplotlib.pyplot as plt\n",
    "import numpy as np \n",
    "def f(n) :\n",
    "    if n==1 :\n",
    "         return 1\n",
    "    if n==2 :\n",
    "        return 2\n",
    "    else :\n",
    "        return (f(n-1) + f(n-2))\n",
    "a = int(input())\n",
    "a1 = np.array(list(range(1,a+1)))\n",
    "a2 = np.array([f(i) for i in range(1,a+1)])\n",
    "plt.plot(a1,a2)\n",
    "plt.title(\"Fibonacci Series\")\n",
    "plt.show()"
   ]
  },
  {
   "cell_type": "code",
   "execution_count": 9,
   "id": "fe619aaa-ccfe-45c6-8246-1fcf1dee8899",
   "metadata": {},
   "outputs": [
    {
     "name": "stdout",
     "output_type": "stream",
     "text": [
      "New List : [13, 11, 9, 6, 5, 3]\n",
      "Mean : 7.833333333333333\n",
      "Median : 7.5\n"
     ]
    }
   ],
   "source": [
    "a = [3,5,7,9,11,13]\n",
    "import statistics as stats\n",
    "b = []\n",
    "c = 0\n",
    "for i in a :\n",
    "    if c == 3:\n",
    "        b.append(6)\n",
    "    b.append(i)\n",
    "    c+=1\n",
    "a = b\n",
    "a.remove(7)\n",
    "a.sort(reverse = True)\n",
    "d = stats.mean(a)\n",
    "e = stats.median(a)\n",
    "print(\"New List :\", a) \n",
    "print(\"Mean :\", d)\n",
    "print(\"Median :\", e)\n"
   ]
  },
  {
   "cell_type": "code",
   "execution_count": 2,
   "id": "500ccfaf-c137-4e95-a991-1d44beffebad",
   "metadata": {
    "scrolled": true
   },
   "outputs": [
    {
     "name": "stdin",
     "output_type": "stream",
     "text": [
      " 10,10,10,10,10,10,10,20,20,20,20,30,30,30,30,30,30,30,30,30,30,40,40\n"
     ]
    },
    {
     "name": "stdout",
     "output_type": "stream",
     "text": [
      "Mean of these numbers is : 23.043478260869566\n",
      "Smallest number : 10\n",
      "Biggest number : 40\n"
     ]
    },
    {
     "data": {
      "image/png": "[encoded data removed]",
      "text/plain": [
       "<Figure size 640x480 with 1 Axes>"
      ]
     },
     "metadata": {},
     "output_type": "display_data"
    }
   ],
   "source": [
    "import matplotlib.pyplot as plt \n",
    "import numpy as np \n",
    "import statistics as stats\n",
    "a = input().split(\",\")\n",
    "g = []\n",
    "for i in a :\n",
    "    g.append(int(i))\n",
    "b = 0\n",
    "c = 0\n",
    "for i in g :\n",
    "    b += i \n",
    "    c+=1\n",
    "d = b/c \n",
    "m = stats.mean(g)\n",
    "print(\"Mean of these numbers is :\", m)\n",
    "e = len(g)\n",
    "g.sort()\n",
    "print(\"Smallest number :\", g[0])\n",
    "print(\"Biggest number :\", g[e-1])\n",
    "plt.hist(g)\n",
    "plt.show()\n"
   ]
  },
  {
   "cell_type": "code",
   "execution_count": 1,
   "id": "b7463202-837d-486e-a2c0-9a4e4da0ddb2",
   "metadata": {
    "scrolled": true
   },
   "outputs": [
    {
     "name": "stdin",
     "output_type": "stream",
     "text": [
      " A man a plan a canal Panama\n"
     ]
    },
    {
     "name": "stdout",
     "output_type": "stream",
     "text": [
      "True\n"
     ]
    }
   ],
   "source": [
    "a = input()\n",
    "a = a.lower()\n",
    "b = a.split()\n",
    "c = str()\n",
    "for i in b :\n",
    "    c+=i\n",
    "d = c[::-1]\n",
    "if d == c:\n",
    "    print(\"True\")\n",
    "else:\n",
    "    print(\"False\")"
   ]
  },
  {
   "cell_type": "code",
   "execution_count": 6,
   "id": "90194f68-94fb-42f5-ba45-61a1a2e200dd",
   "metadata": {},
   "outputs": [
    {
     "name": "stdin",
     "output_type": "stream",
     "text": [
      " {'Ramesh' : 14 , 'Suresh' : 35 , 'Yamada' : 28 , 'Irido' : 54, 'Ram' : 76, 'Tanjiro' : 89, 'Kira' : 98}\n"
     ]
    },
    {
     "name": "stdout",
     "output_type": "stream",
     "text": [
      "Students who scored above average : Ram,Tanjiro,Kira,\n"
     ]
    },
    {
     "data": {
      "image/png": "[encoded data removed]",
      "text/plain": [
       "<Figure size 640x480 with 1 Axes>"
      ]
     },
     "metadata": {},
     "output_type": "display_data"
    }
   ],
   "source": [
    "import matplotlib.pyplot as plt \n",
    "import numpy as np \n",
    "a = eval(input())\n",
    "b = list(a.values())\n",
    "c = 0\n",
    "d = 0\n",
    "for i in b :\n",
    "    c += i\n",
    "    d += 1\n",
    "e = c/d\n",
    "print(\"Students who scored above average :\", end = \" \")\n",
    "for i in a:\n",
    "    if a[i] > e :\n",
    "        print(i, end = \",\")\n",
    "print(\"\")\n",
    "f = list(a.keys())\n",
    "a1 = np.array(f)\n",
    "a2 = np.array(b)\n",
    "plt.bar(a1,a2)\n",
    "plt.show()"
   ]
  },
  {
   "cell_type": "code",
   "execution_count": 7,
   "id": "f02172d4-e8a5-419d-aa9d-241fd0d6b5eb",
   "metadata": {},
   "outputs": [
    {
     "name": "stdout",
     "output_type": "stream",
     "text": [
      "Required list : [(1, 1), (2, 4), (3, 9), (4, 16), (5, 25), (6, 36), (7, 49), (8, 64), (9, 81), (10, 100)]\n"
     ]
    },
    {
     "data": {
      "image/png": "[encoded data removed]",
      "text/plain": [
       "<Figure size 640x480 with 1 Axes>"
      ]
     },
     "metadata": {},
     "output_type": "display_data"
    }
   ],
   "source": [
    "import matplotlib.pyplot as plt \n",
    "import numpy as np \n",
    "a = []\n",
    "for i in range(1,11):\n",
    "    b = i\n",
    "    c = i*i\n",
    "    a.append((b,c))\n",
    "print(\"Required list :\", a)\n",
    "d = []\n",
    "e = []\n",
    "for i in range(1,11):\n",
    "    d.append(i)\n",
    "    e.append(i**2)\n",
    "a1 = np.array(d)\n",
    "a2 = np.array(e)\n",
    "plt.scatter(a1,a2)\n",
    "plt.show()"
   ]
  },
  {
   "cell_type": "code",
   "execution_count": 8,
   "id": "e81e6d96-6a9b-4d63-9e55-dbafa1bd0042",
   "metadata": {
    "scrolled": true
   },
   "outputs": [
    {
     "name": "stdin",
     "output_type": "stream",
     "text": [
      " {'a' : 10, 'b' : 20}\n",
      " {'b' : 5, 'c' : 15}\n"
     ]
    },
    {
     "name": "stdout",
     "output_type": "stream",
     "text": [
      "Merged Dictionary : {'a': 10, 'b': 25, 'c': 15}\n"
     ]
    }
   ],
   "source": [
    "a = eval(input())\n",
    "b = eval(input())\n",
    "for i in a :\n",
    "    if i in b :\n",
    "        a[i] = a[i] + b[i]\n",
    "        b.pop(i)\n",
    "c = a | b\n",
    "print(\"Merged Dictionary :\", c)"
   ]
  },
  {
   "cell_type": "code",
   "execution_count": 9,
   "id": "60d1d913-6dae-4fa1-90f9-5b6106d21322",
   "metadata": {},
   "outputs": [
    {
     "name": "stdin",
     "output_type": "stream",
     "text": [
      " Hello man , how are you doing ?\n"
     ]
    },
    {
     "name": "stdout",
     "output_type": "stream",
     "text": [
      "Required dictionary : {'h': 1, 'e': 2, 'l': 2, 'o': 4, ' ': 7, 'm': 1, 'a': 2, 'n': 2, ',': 1, 'w': 1, 'r': 1, 'y': 1, 'u': 1, 'd': 1, 'i': 1, 'g': 1, '?': 1}\n"
     ]
    },
    {
     "data": {
      "image/png": "[encoded data removed]",
      "text/plain": [
       "<Figure size 640x480 with 1 Axes>"
      ]
     },
     "metadata": {},
     "output_type": "display_data"
    }
   ],
   "source": [
    "import matplotlib.pyplot as plt \n",
    "import numpy as np \n",
    "a = input()\n",
    "b = a.lower()\n",
    "c = {}\n",
    "for i in b :\n",
    "    g = a.count(i)\n",
    "    c[i] = g\n",
    "print(\"Required dictionary :\", c)\n",
    "d = list(c.keys())\n",
    "f = list(c.values())\n",
    "a1 = np.array(d)\n",
    "a2 = np.array(f)\n",
    "plt.bar(a1,a2)\n",
    "plt.show()"
   ]
  },
  {
   "cell_type": "code",
   "execution_count": 1,
   "id": "0aa2ff54-ca98-4fd4-b521-654fa9541481",
   "metadata": {},
   "outputs": [
    {
     "name": "stdin",
     "output_type": "stream",
     "text": [
      " [1,2,2,2,3,4,5,6,6]\n"
     ]
    },
    {
     "name": "stdout",
     "output_type": "stream",
     "text": [
      "After removing the duplicate elements, New list =  [1, 2, 3, 4, 5, 6]\n",
      "Mean of the unique elements is : 3.25\n",
      "Median of the unique elements is : 3.5\n"
     ]
    }
   ],
   "source": [
    "a = input().lstrip(\"[\").rstrip(\"]\").split(\",\")\n",
    "b = []\n",
    "c = []\n",
    "for i in a:\n",
    "    if int(i) in b and int(i) not in c :\n",
    "        c.append(int(i))\n",
    "    if int(i) not in b :\n",
    "        b.append(int(i))\n",
    "print(\"After removing the duplicate elements, New list = \", b)\n",
    "for i in c:\n",
    "    b.remove(i)\n",
    "d = 0\n",
    "e = 0\n",
    "for i in b :\n",
    "    d+=i\n",
    "    e = e+1\n",
    "print(\"Mean of the unique elements is :\", d/e)\n",
    "b.sort()\n",
    "if e%2 ==0:\n",
    "    print(\"Median of the unique elements is :\", (b[e//2] + b[e//2 -1])/2)\n",
    "else:\n",
    "    print(\"Median of the unique elements is :\", b[e-1//2])"
   ]
  },
  {
   "cell_type": "code",
   "execution_count": 10,
   "id": "62608e0d-477f-4e15-9fa8-8f7e6299d02a",
   "metadata": {},
   "outputs": [
    {
     "name": "stdin",
     "output_type": "stream",
     "text": [
      "  ['Are', 'Okay', 'Hello', 'Intelligent', 'Heyyyy']\n"
     ]
    },
    {
     "name": "stdout",
     "output_type": "stream",
     "text": [
      "Longest word : Intelligent\n",
      "Number of words which start with viowels : 3\n"
     ]
    },
    {
     "data": {
      "image/png": "[encoded data removed]",
      "text/plain": [
       "<Figure size 640x480 with 1 Axes>"
      ]
     },
     "metadata": {},
     "output_type": "display_data"
    }
   ],
   "source": [
    "import matplotlib.pyplot as plt \n",
    "import numpy as np \n",
    "a = eval(input())\n",
    "b = {}\n",
    "c =[]\n",
    "for i in a :\n",
    "    g = len(i)\n",
    "    b[i] = g\n",
    "    c.append(g)\n",
    "c.sort()\n",
    "d = len(c)\n",
    "for i in b :\n",
    "    if b[i] == c[d-1]:\n",
    "        print(\"Longest word :\", i)\n",
    "e = 0\n",
    "for i in a :\n",
    "    if i[0] in \"AEIOUaeiou\":\n",
    "        e+= 1\n",
    "print(\"Number of words which start with viowels :\", e)\n",
    "f = list(b.keys())\n",
    "h = []\n",
    "for i in f :\n",
    "    j = b[i]\n",
    "    for k in range(j):\n",
    "        h.append(i)\n",
    "plt.hist(h)\n",
    "plt.show()"
   ]
  },
  {
   "cell_type": "code",
   "execution_count": 12,
   "id": "b29c089b-aa7a-42a0-9e37-abbcac41f655",
   "metadata": {},
   "outputs": [
    {
     "name": "stdin",
     "output_type": "stream",
     "text": [
      " [{'name': 'Alice', 'age': 25}, {'name': 'Bob', 'age': 22}]\n",
      " age\n"
     ]
    },
    {
     "name": "stdout",
     "output_type": "stream",
     "text": [
      "Sorted dictionary : [{'name': 'Bob', 'age': 22}, {'name': 'Alice', 'age': 25}]\n"
     ]
    }
   ],
   "source": [
    "a = eval(input())\n",
    "b = input()\n",
    "c = []\n",
    "for i in a :\n",
    "    c.append(i[b])\n",
    "c.sort()\n",
    "d = []\n",
    "for i in c :\n",
    "    for j in a :\n",
    "        if j[b]== i:\n",
    "            d.append(j)\n",
    "print(\"Sorted dictionary :\", d)"
   ]
  },
  {
   "cell_type": "code",
   "execution_count": 14,
   "id": "98bd7eb2-c664-4a0e-a0f0-33f2e5de4410",
   "metadata": {
    "scrolled": true
   },
   "outputs": [
    {
     "name": "stdin",
     "output_type": "stream",
     "text": [
      " The cat jumped over the fence and ran through streets\n"
     ]
    },
    {
     "data": {
      "image/png": "[encoded data removed]",
      "text/plain": [
       "<Figure size 640x480 with 1 Axes>"
      ]
     },
     "metadata": {},
     "output_type": "display_data"
    }
   ],
   "source": [
    "import matplotlib.pyplot as plt \n",
    "import numpy as np \n",
    "a = input().split()\n",
    "for i in a :\n",
    "    if len(i) < 4 :\n",
    "        a.remove(i)\n",
    "a.sort()\n",
    "b = []\n",
    "for i in a:\n",
    "    b.append(len(i))\n",
    "a1 = np.array(a)\n",
    "a2 = np.array(b)\n",
    "plt.bar(a1,a2)\n",
    "plt.show()\n"
   ]
  },
  {
   "cell_type": "code",
   "execution_count": 13,
   "id": "d3a69ce9-b754-4613-a31c-a39ea178199b",
   "metadata": {
    "scrolled": true
   },
   "outputs": [
    {
     "name": "stdin",
     "output_type": "stream",
     "text": [
      " listen\n",
      " [\"enlist\", \"google\", \"inlets\", \"banana\"]\n"
     ]
    },
    {
     "name": "stdout",
     "output_type": "stream",
     "text": [
      "List of anagrams of the given word in the given list : ['enlist', 'inlets']\n"
     ]
    }
   ],
   "source": [
    "def f(a):\n",
    "    j = []\n",
    "    for i in a :\n",
    "        j.append(i)\n",
    "    j.sort()\n",
    "    return j \n",
    "b = input()\n",
    "c = eval(input())\n",
    "e = []\n",
    "for d in c :\n",
    "    if f(b) == f(d):\n",
    "        e.append(d)\n",
    "print(\"List of anagrams of the given word in the given list :\", e)"
   ]
  },
  {
   "cell_type": "code",
   "execution_count": 14,
   "id": "cc9a7eb7-23c4-49b0-97d9-2a7e39f52c38",
   "metadata": {},
   "outputs": [
    {
     "name": "stdin",
     "output_type": "stream",
     "text": [
      " [\"date\", \"grape\", \"kiwi\", \"lemon\", \"mango\"]\n",
      " [\"apple\", \"banana\", \"cherry\", \"date\", \"grape\"]\n"
     ]
    },
    {
     "name": "stdout",
     "output_type": "stream",
     "text": [
      "Intersection : ['date', 'grape']\n",
      "Union : ['kiwi', 'lemon', 'mango', 'apple', 'banana', 'cherry', 'date', 'grape']\n",
      "Symmetric difference: ['kiwi', 'lemon', 'mango', 'apple', 'banana', 'cherry']\n"
     ]
    },
    {
     "data": {
      "image/png": "[encoded data removed]",
      "text/plain": [
       "<Figure size 640x480 with 1 Axes>"
      ]
     },
     "metadata": {},
     "output_type": "display_data"
    }
   ],
   "source": [
    "import matplotlib.pyplot as plt\n",
    "import numpy as np\n",
    "from matplotlib_venn import venn2\n",
    "a = eval(input())\n",
    "b = eval(input())\n",
    "f = len(a)\n",
    "g = len(b)\n",
    "c = []\n",
    "for i in a:\n",
    "    if i in b:\n",
    "        c.append(i)\n",
    "h = len(c)\n",
    "print(\"Intersection :\", c)\n",
    "for i in c:\n",
    "    a.remove(i)\n",
    "d = a+b \n",
    "print(\"Union :\", d)\n",
    "for i in c:\n",
    "    b.remove(i)\n",
    "e = a+b \n",
    "print(\"Symmetric difference:\", e)\n",
    "venn2(subsets = (f,g,h) , set_labels = ('a','b'))\n",
    "plt.show()"
   ]
  },
  {
   "cell_type": "code",
   "execution_count": 15,
   "id": "970c620a-59de-4df3-803a-e9f1723a318b",
   "metadata": {},
   "outputs": [
    {
     "name": "stdout",
     "output_type": "stream",
     "text": [
      "Sum of the random numbers : 1325\n"
     ]
    }
   ],
   "source": [
    "import random\n",
    "b = random.randint(1,50)\n",
    "for i in range(b):\n",
    "    f = open(\"sample.txt\", \"a\")\n",
    "    f.write(str(random.randint(1,50)))\n",
    "    f.write(\"\\n\")\n",
    "    f.close()\n",
    "c = []\n",
    "f = open(\"sample.txt\")\n",
    "for i in range(b):\n",
    "    a = f.readline()\n",
    "    a = a.lstrip()\n",
    "    a = a.rstrip()\n",
    "    a = int(a)\n",
    "    c.append(a)\n",
    "d = 0\n",
    "for i in c :\n",
    "    d+=i\n",
    "print(\"Sum of the random numbers :\", d)\n",
    "    "
   ]
  },
  {
   "cell_type": "code",
   "execution_count": 3,
   "id": "7c333d49-a58e-434a-9f1a-0d901b996f36",
   "metadata": {},
   "outputs": [
    {
     "name": "stdout",
     "output_type": "stream",
     "text": [
      "Number of words : 10\n"
     ]
    },
    {
     "data": {
      "image/png": "[encoded data removed]",
      "text/plain": [
       "<Figure size 640x480 with 1 Axes>"
      ]
     },
     "metadata": {},
     "output_type": "display_data"
    },
    {
     "name": "stdout",
     "output_type": "stream",
     "text": [
      "Most frequent word : the\n"
     ]
    }
   ],
   "source": [
    "import matplotlib.pyplot as plt \n",
    "import numpy as np\n",
    "f = open(\"sample2.txt\" , \"w\")\n",
    "f.write(\"\")\n",
    "f.close()\n",
    "f = open(\"sample2.txt\", \"a\")\n",
    "f.write(\"The cat jumped over the fence and ran through streets\")\n",
    "f.close()\n",
    "f = open(\"sample2.txt\")\n",
    "a = f.read()\n",
    "f.close()\n",
    "b = a.split()\n",
    "print(\"Number of words :\", len(b))\n",
    "b.sort()\n",
    "l = []\n",
    "for i in b :\n",
    "    m = i.lower()\n",
    "    l.append(m)\n",
    "c = []\n",
    "d = {}\n",
    "for i in l:\n",
    "    if i not in c:\n",
    "        c.append(i)\n",
    "        d[i] = 1\n",
    "    elif i in c :\n",
    "        d[i] = d[i] + 1\n",
    "e = list(d.keys())\n",
    "h = list(d.values())\n",
    "n = h\n",
    "a1 = np.array(e)\n",
    "a2 = np.array(n)\n",
    "plt.bar(a1,a2)\n",
    "plt.show()\n",
    "h.sort()\n",
    "for i in e:\n",
    "    if d[i]==h[len(h)-1]:\n",
    "        print(\"Most frequent word :\", i)"
   ]
  },
  {
   "cell_type": "code",
   "execution_count": 17,
   "id": "9b133ea3-186f-406e-b28f-b7018eb7847b",
   "metadata": {},
   "outputs": [
    {
     "name": "stdout",
     "output_type": "stream",
     "text": [
      "Mean : 26.88\n"
     ]
    },
    {
     "data": {
      "image/png": "[encoded data removed]",
      "text/plain": [
       "<Figure size 640x480 with 1 Axes>"
      ]
     },
     "metadata": {},
     "output_type": "display_data"
    }
   ],
   "source": [
    "import matplotlib.pyplot as plt \n",
    "import numpy as np \n",
    "import random\n",
    "f = open(\"sample3.txt\", \"w\")\n",
    "f.write(\" \")\n",
    "f.close()\n",
    "for i in range(100):\n",
    "    f = open(\"sample3.txt\", \"a\")\n",
    "    f.write(str(random.randint(1,50)))\n",
    "    f.write(\"\\n\")\n",
    "    f.close()\n",
    "f = open(\"sample3.txt\")\n",
    "b =[]\n",
    "for i in range(100):\n",
    "    a = f.readline()\n",
    "    a = a.strip()\n",
    "    a = int(a)\n",
    "    b.append(a)\n",
    "c = 0 \n",
    "d = 0 \n",
    "for i in b:\n",
    "    c+=i \n",
    "    d+=1\n",
    "print(\"Mean :\", c/d)\n",
    "plt.hist(b)\n",
    "plt.show()"
   ]
  },
  {
   "cell_type": "code",
   "execution_count": 1,
   "id": "ef2b59a9-fcb8-4314-ac73-6d746eb60419",
   "metadata": {},
   "outputs": [
    {
     "name": "stdout",
     "output_type": "stream",
     "text": [
      "Mean : 463.2\n",
      "Median : 424.5\n",
      "Mode : 179\n",
      "Standard deviation : 311.8419275131265\n"
     ]
    },
    {
     "data": {
      "image/png": "[encoded data removed]",
      "text/plain": [
       "<Figure size 640x480 with 1 Axes>"
      ]
     },
     "metadata": {},
     "output_type": "display_data"
    }
   ],
   "source": [
    "import statistics as stats\n",
    "import matplotlib.pyplot as plt\n",
    "import random \n",
    "import numpy as np\n",
    "a = []\n",
    "for i in range(50):\n",
    "    a.append(random.randint(1,1000))\n",
    "b = stats.mean(a)\n",
    "c = stats.median(a)\n",
    "d = stats.mode(a)\n",
    "e = stats.stdev(a)\n",
    "print(\"Mean :\", b)\n",
    "print(\"Median :\", c)\n",
    "print(\"Mode :\", d)\n",
    "print(\"Standard deviation :\", e)\n",
    "plt.boxplot(a)\n",
    "plt.show()"
   ]
  },
  {
   "cell_type": "code",
   "execution_count": 2,
   "id": "ec50d1e1-cb49-40bc-ac86-3778c545bff8",
   "metadata": {
    "scrolled": true
   },
   "outputs": [
    {
     "data": {
      "image/png": "[encoded data removed]",
      "text/plain": [
       "<Figure size 640x480 with 1 Axes>"
      ]
     },
     "metadata": {},
     "output_type": "display_data"
    }
   ],
   "source": [
    "import matplotlib.pyplot as plt\n",
    "import random \n",
    "import numpy as np\n",
    "a = []\n",
    "for i in range(50):\n",
    "    a.append(random.randint(1,1000))\n",
    "a.sort()\n",
    "c = []\n",
    "for i in a:\n",
    "    b = (i-a[0])/(a[len(a)-1]-a[0])\n",
    "    c.append(b)\n",
    "c.sort()\n",
    "a1 = np.array(a)\n",
    "a2 = np.array(c)\n",
    "plt.plot(a1,a2)\n",
    "plt.show()"
   ]
  },
  {
   "cell_type": "code",
   "execution_count": 23,
   "id": "a91d6980-399a-41ee-bc18-a33c075ee96a",
   "metadata": {
    "scrolled": true
   },
   "outputs": [
    {
     "name": "stdin",
     "output_type": "stream",
     "text": [
      " 73926492\n"
     ]
    },
    {
     "name": "stdout",
     "output_type": "stream",
     "text": [
      "Even\n"
     ]
    }
   ],
   "source": [
    "a = int(input())\n",
    "if a%2 ==1 :\n",
    "    print(\"Odd\")\n",
    "else:\n",
    "    print(\"Even\")"
   ]
  },
  {
   "cell_type": "code",
   "execution_count": 24,
   "id": "1c898048-aadc-4e23-b4ca-d8dbb745ae26",
   "metadata": {},
   "outputs": [
    {
     "name": "stdin",
     "output_type": "stream",
     "text": [
      " 57\n"
     ]
    },
    {
     "name": "stdout",
     "output_type": "stream",
     "text": [
      "D\n"
     ]
    }
   ],
   "source": [
    "a = int(input())\n",
    "if a >= 90 :\n",
    "    print(\"A\")\n",
    "elif a>= 80 :\n",
    "    print(\"B\")\n",
    "elif a >=65 :\n",
    "    print(\"C\")\n",
    "elif a >= 40 :\n",
    "    print(\"D\")\n",
    "else :\n",
    "    print(\"F\")"
   ]
  },
  {
   "cell_type": "code",
   "execution_count": 25,
   "id": "a64bd024-a313-4527-8285-2b3ec59d49e1",
   "metadata": {},
   "outputs": [
    {
     "name": "stdin",
     "output_type": "stream",
     "text": [
      " 678\n"
     ]
    },
    {
     "name": "stdout",
     "output_type": "stream",
     "text": [
      "Not a Leap Year\n"
     ]
    }
   ],
   "source": [
    "a = int(input())\n",
    "if a % 400 == 0 :\n",
    "    print(\"Leap Year\")\n",
    "elif a% 100 == 0 :\n",
    "    print(\"Not a Leap Year\")\n",
    "elif a %4 ==0 :\n",
    "    print(\"Leap Year\")\n",
    "else :\n",
    "    print(\"Not a Leap Year\")"
   ]
  }
 ],
 "metadata": {
  "kernelspec": {
   "display_name": "Python 3 (ipykernel)",
   "language": "python",
   "name": "python3"
  },
  "language_info": {
   "codemirror_mode": {
    "name": "ipython",
    "version": 3
   },
   "file_extension": ".py",
   "mimetype": "text/x-python",
   "name": "python",
   "nbconvert_exporter": "python",
   "pygments_lexer": "ipython3",
   "version": "3.12.5"
  }
 },
 "nbformat": 4,
 "nbformat_minor": 5
}
